{
  "nbformat": 4,
  "nbformat_minor": 0,
  "metadata": {
    "colab": {
      "provenance": [],
      "authorship_tag": "ABX9TyPLjWQNHPwSM81DIL6VWxJo",
      "include_colab_link": true
    },
    "kernelspec": {
      "name": "python3",
      "display_name": "Python 3"
    },
    "language_info": {
      "name": "python"
    }
  },
  "cells": [
    {
      "cell_type": "markdown",
      "metadata": {
        "id": "view-in-github",
        "colab_type": "text"
      },
      "source": [
        "<a href=\"https://colab.research.google.com/github/jarosas55/Pruebas-de-uso/blob/main/sleepDay.ipynb\" target=\"_parent\"><img src=\"https://colab.research.google.com/assets/colab-badge.svg\" alt=\"Open In Colab\"/></a>"
      ]
    },
    {
      "cell_type": "code",
      "execution_count": 1,
      "metadata": {
        "id": "F7-buY491ZjH"
      },
      "outputs": [],
      "source": [
        "#Procesamiento\n",
        "import pandas as pd\n",
        "import numpy as np\n",
        "import datetime as dt\n",
        "import missingno as msno\n",
        "\n",
        "#Visualización\n",
        "import matplotlib.pyplot as plt\n",
        "import seaborn as sns\n",
        "import plotly.graph_objects as go"
      ]
    },
    {
      "cell_type": "code",
      "source": [
        "sleep = pd.read_csv('minuteSleep_merged.csv')"
      ],
      "metadata": {
        "id": "PsPVZzG-2M7K"
      },
      "execution_count": 17,
      "outputs": []
    },
    {
      "cell_type": "code",
      "source": [
        "sleep"
      ],
      "metadata": {
        "colab": {
          "base_uri": "https://localhost:8080/",
          "height": 677
        },
        "id": "88vhw-DX2eMf",
        "outputId": "3e6d06ea-e739-45f3-b800-5823ed36780e"
      },
      "execution_count": 18,
      "outputs": [
        {
          "output_type": "execute_result",
          "data": {
            "text/plain": [
              "                Id                  date  value        logId\n",
              "0       1503960366  4/12/2016 2:47:30 AM      3  11380564589\n",
              "1       1503960366  4/12/2016 2:48:30 AM      2  11380564589\n",
              "2       1503960366  4/12/2016 2:49:30 AM      1  11380564589\n",
              "3       1503960366  4/12/2016 2:50:30 AM      1  11380564589\n",
              "4       1503960366  4/12/2016 2:51:30 AM      1  11380564589\n",
              "...            ...                   ...    ...          ...\n",
              "188516  8792009665   5/4/2016 9:59:00 AM      1  11552534115\n",
              "188517  8792009665  5/4/2016 10:00:00 AM      1  11552534115\n",
              "188518  8792009665  5/4/2016 10:01:00 AM      1  11552534115\n",
              "188519  8792009665  5/4/2016 10:02:00 AM      1  11552534115\n",
              "188520  8792009665  5/4/2016 10:03:00 AM      1  11552534115\n",
              "\n",
              "[188521 rows x 4 columns]"
            ],
            "text/html": [
              "\n",
              "  <div id=\"df-bbae0d1c-d9be-4f8e-8cdc-c6ca969086e7\">\n",
              "    <div class=\"colab-df-container\">\n",
              "      <div>\n",
              "<style scoped>\n",
              "    .dataframe tbody tr th:only-of-type {\n",
              "        vertical-align: middle;\n",
              "    }\n",
              "\n",
              "    .dataframe tbody tr th {\n",
              "        vertical-align: top;\n",
              "    }\n",
              "\n",
              "    .dataframe thead th {\n",
              "        text-align: right;\n",
              "    }\n",
              "</style>\n",
              "<table border=\"1\" class=\"dataframe\">\n",
              "  <thead>\n",
              "    <tr style=\"text-align: right;\">\n",
              "      <th></th>\n",
              "      <th>Id</th>\n",
              "      <th>date</th>\n",
              "      <th>value</th>\n",
              "      <th>logId</th>\n",
              "    </tr>\n",
              "  </thead>\n",
              "  <tbody>\n",
              "    <tr>\n",
              "      <th>0</th>\n",
              "      <td>1503960366</td>\n",
              "      <td>4/12/2016 2:47:30 AM</td>\n",
              "      <td>3</td>\n",
              "      <td>11380564589</td>\n",
              "    </tr>\n",
              "    <tr>\n",
              "      <th>1</th>\n",
              "      <td>1503960366</td>\n",
              "      <td>4/12/2016 2:48:30 AM</td>\n",
              "      <td>2</td>\n",
              "      <td>11380564589</td>\n",
              "    </tr>\n",
              "    <tr>\n",
              "      <th>2</th>\n",
              "      <td>1503960366</td>\n",
              "      <td>4/12/2016 2:49:30 AM</td>\n",
              "      <td>1</td>\n",
              "      <td>11380564589</td>\n",
              "    </tr>\n",
              "    <tr>\n",
              "      <th>3</th>\n",
              "      <td>1503960366</td>\n",
              "      <td>4/12/2016 2:50:30 AM</td>\n",
              "      <td>1</td>\n",
              "      <td>11380564589</td>\n",
              "    </tr>\n",
              "    <tr>\n",
              "      <th>4</th>\n",
              "      <td>1503960366</td>\n",
              "      <td>4/12/2016 2:51:30 AM</td>\n",
              "      <td>1</td>\n",
              "      <td>11380564589</td>\n",
              "    </tr>\n",
              "    <tr>\n",
              "      <th>...</th>\n",
              "      <td>...</td>\n",
              "      <td>...</td>\n",
              "      <td>...</td>\n",
              "      <td>...</td>\n",
              "    </tr>\n",
              "    <tr>\n",
              "      <th>188516</th>\n",
              "      <td>8792009665</td>\n",
              "      <td>5/4/2016 9:59:00 AM</td>\n",
              "      <td>1</td>\n",
              "      <td>11552534115</td>\n",
              "    </tr>\n",
              "    <tr>\n",
              "      <th>188517</th>\n",
              "      <td>8792009665</td>\n",
              "      <td>5/4/2016 10:00:00 AM</td>\n",
              "      <td>1</td>\n",
              "      <td>11552534115</td>\n",
              "    </tr>\n",
              "    <tr>\n",
              "      <th>188518</th>\n",
              "      <td>8792009665</td>\n",
              "      <td>5/4/2016 10:01:00 AM</td>\n",
              "      <td>1</td>\n",
              "      <td>11552534115</td>\n",
              "    </tr>\n",
              "    <tr>\n",
              "      <th>188519</th>\n",
              "      <td>8792009665</td>\n",
              "      <td>5/4/2016 10:02:00 AM</td>\n",
              "      <td>1</td>\n",
              "      <td>11552534115</td>\n",
              "    </tr>\n",
              "    <tr>\n",
              "      <th>188520</th>\n",
              "      <td>8792009665</td>\n",
              "      <td>5/4/2016 10:03:00 AM</td>\n",
              "      <td>1</td>\n",
              "      <td>11552534115</td>\n",
              "    </tr>\n",
              "  </tbody>\n",
              "</table>\n",
              "<p>188521 rows × 4 columns</p>\n",
              "</div>\n",
              "      <button class=\"colab-df-convert\" onclick=\"convertToInteractive('df-bbae0d1c-d9be-4f8e-8cdc-c6ca969086e7')\"\n",
              "              title=\"Convert this dataframe to an interactive table.\"\n",
              "              style=\"display:none;\">\n",
              "        \n",
              "  <svg xmlns=\"http://www.w3.org/2000/svg\" height=\"24px\"viewBox=\"0 0 24 24\"\n",
              "       width=\"24px\">\n",
              "    <path d=\"M0 0h24v24H0V0z\" fill=\"none\"/>\n",
              "    <path d=\"M18.56 5.44l.94 2.06.94-2.06 2.06-.94-2.06-.94-.94-2.06-.94 2.06-2.06.94zm-11 1L8.5 8.5l.94-2.06 2.06-.94-2.06-.94L8.5 2.5l-.94 2.06-2.06.94zm10 10l.94 2.06.94-2.06 2.06-.94-2.06-.94-.94-2.06-.94 2.06-2.06.94z\"/><path d=\"M17.41 7.96l-1.37-1.37c-.4-.4-.92-.59-1.43-.59-.52 0-1.04.2-1.43.59L10.3 9.45l-7.72 7.72c-.78.78-.78 2.05 0 2.83L4 21.41c.39.39.9.59 1.41.59.51 0 1.02-.2 1.41-.59l7.78-7.78 2.81-2.81c.8-.78.8-2.07 0-2.86zM5.41 20L4 18.59l7.72-7.72 1.47 1.35L5.41 20z\"/>\n",
              "  </svg>\n",
              "      </button>\n",
              "      \n",
              "  <style>\n",
              "    .colab-df-container {\n",
              "      display:flex;\n",
              "      flex-wrap:wrap;\n",
              "      gap: 12px;\n",
              "    }\n",
              "\n",
              "    .colab-df-convert {\n",
              "      background-color: #E8F0FE;\n",
              "      border: none;\n",
              "      border-radius: 50%;\n",
              "      cursor: pointer;\n",
              "      display: none;\n",
              "      fill: #1967D2;\n",
              "      height: 32px;\n",
              "      padding: 0 0 0 0;\n",
              "      width: 32px;\n",
              "    }\n",
              "\n",
              "    .colab-df-convert:hover {\n",
              "      background-color: #E2EBFA;\n",
              "      box-shadow: 0px 1px 2px rgba(60, 64, 67, 0.3), 0px 1px 3px 1px rgba(60, 64, 67, 0.15);\n",
              "      fill: #174EA6;\n",
              "    }\n",
              "\n",
              "    [theme=dark] .colab-df-convert {\n",
              "      background-color: #3B4455;\n",
              "      fill: #D2E3FC;\n",
              "    }\n",
              "\n",
              "    [theme=dark] .colab-df-convert:hover {\n",
              "      background-color: #434B5C;\n",
              "      box-shadow: 0px 1px 3px 1px rgba(0, 0, 0, 0.15);\n",
              "      filter: drop-shadow(0px 1px 2px rgba(0, 0, 0, 0.3));\n",
              "      fill: #FFFFFF;\n",
              "    }\n",
              "  </style>\n",
              "\n",
              "      <script>\n",
              "        const buttonEl =\n",
              "          document.querySelector('#df-bbae0d1c-d9be-4f8e-8cdc-c6ca969086e7 button.colab-df-convert');\n",
              "        buttonEl.style.display =\n",
              "          google.colab.kernel.accessAllowed ? 'block' : 'none';\n",
              "\n",
              "        async function convertToInteractive(key) {\n",
              "          const element = document.querySelector('#df-bbae0d1c-d9be-4f8e-8cdc-c6ca969086e7');\n",
              "          const dataTable =\n",
              "            await google.colab.kernel.invokeFunction('convertToInteractive',\n",
              "                                                     [key], {});\n",
              "          if (!dataTable) return;\n",
              "\n",
              "          const docLinkHtml = 'Like what you see? Visit the ' +\n",
              "            '<a target=\"_blank\" href=https://colab.research.google.com/notebooks/data_table.ipynb>data table notebook</a>'\n",
              "            + ' to learn more about interactive tables.';\n",
              "          element.innerHTML = '';\n",
              "          dataTable['output_type'] = 'display_data';\n",
              "          await google.colab.output.renderOutput(dataTable, element);\n",
              "          const docLink = document.createElement('div');\n",
              "          docLink.innerHTML = docLinkHtml;\n",
              "          element.appendChild(docLink);\n",
              "        }\n",
              "      </script>\n",
              "    </div>\n",
              "  </div>\n",
              "  "
            ]
          },
          "metadata": {},
          "execution_count": 18
        },
        {
          "output_type": "stream",
          "name": "stdout",
          "text": [
            "Warning: total number of rows (188521) exceeds max_rows (20000). Limiting to first (20000) rows.\n"
          ]
        }
      ]
    },
    {
      "cell_type": "code",
      "source": [
        "sleep.head()"
      ],
      "metadata": {
        "colab": {
          "base_uri": "https://localhost:8080/",
          "height": 206
        },
        "id": "Q6SndePULza7",
        "outputId": "ec22c311-3945-4cca-907c-079d35262f5e"
      },
      "execution_count": 45,
      "outputs": [
        {
          "output_type": "execute_result",
          "data": {
            "text/plain": [
              "           Id                date  value        logId value2\n",
              "0  1503960366 2016-04-12 02:47:30      3  11380564589      3\n",
              "1  1503960366 2016-04-12 02:48:30      2  11380564589      2\n",
              "2  1503960366 2016-04-12 02:49:30      1  11380564589      1\n",
              "3  1503960366 2016-04-12 02:50:30      1  11380564589      1\n",
              "4  1503960366 2016-04-12 02:51:30      1  11380564589      1"
            ],
            "text/html": [
              "\n",
              "  <div id=\"df-014a6655-de29-4a52-b4f9-68d572d0e9cf\">\n",
              "    <div class=\"colab-df-container\">\n",
              "      <div>\n",
              "<style scoped>\n",
              "    .dataframe tbody tr th:only-of-type {\n",
              "        vertical-align: middle;\n",
              "    }\n",
              "\n",
              "    .dataframe tbody tr th {\n",
              "        vertical-align: top;\n",
              "    }\n",
              "\n",
              "    .dataframe thead th {\n",
              "        text-align: right;\n",
              "    }\n",
              "</style>\n",
              "<table border=\"1\" class=\"dataframe\">\n",
              "  <thead>\n",
              "    <tr style=\"text-align: right;\">\n",
              "      <th></th>\n",
              "      <th>Id</th>\n",
              "      <th>date</th>\n",
              "      <th>value</th>\n",
              "      <th>logId</th>\n",
              "      <th>value2</th>\n",
              "    </tr>\n",
              "  </thead>\n",
              "  <tbody>\n",
              "    <tr>\n",
              "      <th>0</th>\n",
              "      <td>1503960366</td>\n",
              "      <td>2016-04-12 02:47:30</td>\n",
              "      <td>3</td>\n",
              "      <td>11380564589</td>\n",
              "      <td>3</td>\n",
              "    </tr>\n",
              "    <tr>\n",
              "      <th>1</th>\n",
              "      <td>1503960366</td>\n",
              "      <td>2016-04-12 02:48:30</td>\n",
              "      <td>2</td>\n",
              "      <td>11380564589</td>\n",
              "      <td>2</td>\n",
              "    </tr>\n",
              "    <tr>\n",
              "      <th>2</th>\n",
              "      <td>1503960366</td>\n",
              "      <td>2016-04-12 02:49:30</td>\n",
              "      <td>1</td>\n",
              "      <td>11380564589</td>\n",
              "      <td>1</td>\n",
              "    </tr>\n",
              "    <tr>\n",
              "      <th>3</th>\n",
              "      <td>1503960366</td>\n",
              "      <td>2016-04-12 02:50:30</td>\n",
              "      <td>1</td>\n",
              "      <td>11380564589</td>\n",
              "      <td>1</td>\n",
              "    </tr>\n",
              "    <tr>\n",
              "      <th>4</th>\n",
              "      <td>1503960366</td>\n",
              "      <td>2016-04-12 02:51:30</td>\n",
              "      <td>1</td>\n",
              "      <td>11380564589</td>\n",
              "      <td>1</td>\n",
              "    </tr>\n",
              "  </tbody>\n",
              "</table>\n",
              "</div>\n",
              "      <button class=\"colab-df-convert\" onclick=\"convertToInteractive('df-014a6655-de29-4a52-b4f9-68d572d0e9cf')\"\n",
              "              title=\"Convert this dataframe to an interactive table.\"\n",
              "              style=\"display:none;\">\n",
              "        \n",
              "  <svg xmlns=\"http://www.w3.org/2000/svg\" height=\"24px\"viewBox=\"0 0 24 24\"\n",
              "       width=\"24px\">\n",
              "    <path d=\"M0 0h24v24H0V0z\" fill=\"none\"/>\n",
              "    <path d=\"M18.56 5.44l.94 2.06.94-2.06 2.06-.94-2.06-.94-.94-2.06-.94 2.06-2.06.94zm-11 1L8.5 8.5l.94-2.06 2.06-.94-2.06-.94L8.5 2.5l-.94 2.06-2.06.94zm10 10l.94 2.06.94-2.06 2.06-.94-2.06-.94-.94-2.06-.94 2.06-2.06.94z\"/><path d=\"M17.41 7.96l-1.37-1.37c-.4-.4-.92-.59-1.43-.59-.52 0-1.04.2-1.43.59L10.3 9.45l-7.72 7.72c-.78.78-.78 2.05 0 2.83L4 21.41c.39.39.9.59 1.41.59.51 0 1.02-.2 1.41-.59l7.78-7.78 2.81-2.81c.8-.78.8-2.07 0-2.86zM5.41 20L4 18.59l7.72-7.72 1.47 1.35L5.41 20z\"/>\n",
              "  </svg>\n",
              "      </button>\n",
              "      \n",
              "  <style>\n",
              "    .colab-df-container {\n",
              "      display:flex;\n",
              "      flex-wrap:wrap;\n",
              "      gap: 12px;\n",
              "    }\n",
              "\n",
              "    .colab-df-convert {\n",
              "      background-color: #E8F0FE;\n",
              "      border: none;\n",
              "      border-radius: 50%;\n",
              "      cursor: pointer;\n",
              "      display: none;\n",
              "      fill: #1967D2;\n",
              "      height: 32px;\n",
              "      padding: 0 0 0 0;\n",
              "      width: 32px;\n",
              "    }\n",
              "\n",
              "    .colab-df-convert:hover {\n",
              "      background-color: #E2EBFA;\n",
              "      box-shadow: 0px 1px 2px rgba(60, 64, 67, 0.3), 0px 1px 3px 1px rgba(60, 64, 67, 0.15);\n",
              "      fill: #174EA6;\n",
              "    }\n",
              "\n",
              "    [theme=dark] .colab-df-convert {\n",
              "      background-color: #3B4455;\n",
              "      fill: #D2E3FC;\n",
              "    }\n",
              "\n",
              "    [theme=dark] .colab-df-convert:hover {\n",
              "      background-color: #434B5C;\n",
              "      box-shadow: 0px 1px 3px 1px rgba(0, 0, 0, 0.15);\n",
              "      filter: drop-shadow(0px 1px 2px rgba(0, 0, 0, 0.3));\n",
              "      fill: #FFFFFF;\n",
              "    }\n",
              "  </style>\n",
              "\n",
              "      <script>\n",
              "        const buttonEl =\n",
              "          document.querySelector('#df-014a6655-de29-4a52-b4f9-68d572d0e9cf button.colab-df-convert');\n",
              "        buttonEl.style.display =\n",
              "          google.colab.kernel.accessAllowed ? 'block' : 'none';\n",
              "\n",
              "        async function convertToInteractive(key) {\n",
              "          const element = document.querySelector('#df-014a6655-de29-4a52-b4f9-68d572d0e9cf');\n",
              "          const dataTable =\n",
              "            await google.colab.kernel.invokeFunction('convertToInteractive',\n",
              "                                                     [key], {});\n",
              "          if (!dataTable) return;\n",
              "\n",
              "          const docLinkHtml = 'Like what you see? Visit the ' +\n",
              "            '<a target=\"_blank\" href=https://colab.research.google.com/notebooks/data_table.ipynb>data table notebook</a>'\n",
              "            + ' to learn more about interactive tables.';\n",
              "          element.innerHTML = '';\n",
              "          dataTable['output_type'] = 'display_data';\n",
              "          await google.colab.output.renderOutput(dataTable, element);\n",
              "          const docLink = document.createElement('div');\n",
              "          docLink.innerHTML = docLinkHtml;\n",
              "          element.appendChild(docLink);\n",
              "        }\n",
              "      </script>\n",
              "    </div>\n",
              "  </div>\n",
              "  "
            ]
          },
          "metadata": {},
          "execution_count": 45
        }
      ]
    },
    {
      "cell_type": "code",
      "source": [
        "sleep.tail()"
      ],
      "metadata": {
        "colab": {
          "base_uri": "https://localhost:8080/",
          "height": 206
        },
        "id": "9hCXZc7826YH",
        "outputId": "f858039a-279e-47fc-b78f-830d5776d0bc"
      },
      "execution_count": 4,
      "outputs": [
        {
          "output_type": "execute_result",
          "data": {
            "text/plain": [
              "                Id                  date  value        logId\n",
              "188516  8792009665   5/4/2016 9:59:00 AM      1  11552534115\n",
              "188517  8792009665  5/4/2016 10:00:00 AM      1  11552534115\n",
              "188518  8792009665  5/4/2016 10:01:00 AM      1  11552534115\n",
              "188519  8792009665  5/4/2016 10:02:00 AM      1  11552534115\n",
              "188520  8792009665  5/4/2016 10:03:00 AM      1  11552534115"
            ],
            "text/html": [
              "\n",
              "  <div id=\"df-2f8ce329-a7f2-4b87-992a-67d15d1b8039\">\n",
              "    <div class=\"colab-df-container\">\n",
              "      <div>\n",
              "<style scoped>\n",
              "    .dataframe tbody tr th:only-of-type {\n",
              "        vertical-align: middle;\n",
              "    }\n",
              "\n",
              "    .dataframe tbody tr th {\n",
              "        vertical-align: top;\n",
              "    }\n",
              "\n",
              "    .dataframe thead th {\n",
              "        text-align: right;\n",
              "    }\n",
              "</style>\n",
              "<table border=\"1\" class=\"dataframe\">\n",
              "  <thead>\n",
              "    <tr style=\"text-align: right;\">\n",
              "      <th></th>\n",
              "      <th>Id</th>\n",
              "      <th>date</th>\n",
              "      <th>value</th>\n",
              "      <th>logId</th>\n",
              "    </tr>\n",
              "  </thead>\n",
              "  <tbody>\n",
              "    <tr>\n",
              "      <th>188516</th>\n",
              "      <td>8792009665</td>\n",
              "      <td>5/4/2016 9:59:00 AM</td>\n",
              "      <td>1</td>\n",
              "      <td>11552534115</td>\n",
              "    </tr>\n",
              "    <tr>\n",
              "      <th>188517</th>\n",
              "      <td>8792009665</td>\n",
              "      <td>5/4/2016 10:00:00 AM</td>\n",
              "      <td>1</td>\n",
              "      <td>11552534115</td>\n",
              "    </tr>\n",
              "    <tr>\n",
              "      <th>188518</th>\n",
              "      <td>8792009665</td>\n",
              "      <td>5/4/2016 10:01:00 AM</td>\n",
              "      <td>1</td>\n",
              "      <td>11552534115</td>\n",
              "    </tr>\n",
              "    <tr>\n",
              "      <th>188519</th>\n",
              "      <td>8792009665</td>\n",
              "      <td>5/4/2016 10:02:00 AM</td>\n",
              "      <td>1</td>\n",
              "      <td>11552534115</td>\n",
              "    </tr>\n",
              "    <tr>\n",
              "      <th>188520</th>\n",
              "      <td>8792009665</td>\n",
              "      <td>5/4/2016 10:03:00 AM</td>\n",
              "      <td>1</td>\n",
              "      <td>11552534115</td>\n",
              "    </tr>\n",
              "  </tbody>\n",
              "</table>\n",
              "</div>\n",
              "      <button class=\"colab-df-convert\" onclick=\"convertToInteractive('df-2f8ce329-a7f2-4b87-992a-67d15d1b8039')\"\n",
              "              title=\"Convert this dataframe to an interactive table.\"\n",
              "              style=\"display:none;\">\n",
              "        \n",
              "  <svg xmlns=\"http://www.w3.org/2000/svg\" height=\"24px\"viewBox=\"0 0 24 24\"\n",
              "       width=\"24px\">\n",
              "    <path d=\"M0 0h24v24H0V0z\" fill=\"none\"/>\n",
              "    <path d=\"M18.56 5.44l.94 2.06.94-2.06 2.06-.94-2.06-.94-.94-2.06-.94 2.06-2.06.94zm-11 1L8.5 8.5l.94-2.06 2.06-.94-2.06-.94L8.5 2.5l-.94 2.06-2.06.94zm10 10l.94 2.06.94-2.06 2.06-.94-2.06-.94-.94-2.06-.94 2.06-2.06.94z\"/><path d=\"M17.41 7.96l-1.37-1.37c-.4-.4-.92-.59-1.43-.59-.52 0-1.04.2-1.43.59L10.3 9.45l-7.72 7.72c-.78.78-.78 2.05 0 2.83L4 21.41c.39.39.9.59 1.41.59.51 0 1.02-.2 1.41-.59l7.78-7.78 2.81-2.81c.8-.78.8-2.07 0-2.86zM5.41 20L4 18.59l7.72-7.72 1.47 1.35L5.41 20z\"/>\n",
              "  </svg>\n",
              "      </button>\n",
              "      \n",
              "  <style>\n",
              "    .colab-df-container {\n",
              "      display:flex;\n",
              "      flex-wrap:wrap;\n",
              "      gap: 12px;\n",
              "    }\n",
              "\n",
              "    .colab-df-convert {\n",
              "      background-color: #E8F0FE;\n",
              "      border: none;\n",
              "      border-radius: 50%;\n",
              "      cursor: pointer;\n",
              "      display: none;\n",
              "      fill: #1967D2;\n",
              "      height: 32px;\n",
              "      padding: 0 0 0 0;\n",
              "      width: 32px;\n",
              "    }\n",
              "\n",
              "    .colab-df-convert:hover {\n",
              "      background-color: #E2EBFA;\n",
              "      box-shadow: 0px 1px 2px rgba(60, 64, 67, 0.3), 0px 1px 3px 1px rgba(60, 64, 67, 0.15);\n",
              "      fill: #174EA6;\n",
              "    }\n",
              "\n",
              "    [theme=dark] .colab-df-convert {\n",
              "      background-color: #3B4455;\n",
              "      fill: #D2E3FC;\n",
              "    }\n",
              "\n",
              "    [theme=dark] .colab-df-convert:hover {\n",
              "      background-color: #434B5C;\n",
              "      box-shadow: 0px 1px 3px 1px rgba(0, 0, 0, 0.15);\n",
              "      filter: drop-shadow(0px 1px 2px rgba(0, 0, 0, 0.3));\n",
              "      fill: #FFFFFF;\n",
              "    }\n",
              "  </style>\n",
              "\n",
              "      <script>\n",
              "        const buttonEl =\n",
              "          document.querySelector('#df-2f8ce329-a7f2-4b87-992a-67d15d1b8039 button.colab-df-convert');\n",
              "        buttonEl.style.display =\n",
              "          google.colab.kernel.accessAllowed ? 'block' : 'none';\n",
              "\n",
              "        async function convertToInteractive(key) {\n",
              "          const element = document.querySelector('#df-2f8ce329-a7f2-4b87-992a-67d15d1b8039');\n",
              "          const dataTable =\n",
              "            await google.colab.kernel.invokeFunction('convertToInteractive',\n",
              "                                                     [key], {});\n",
              "          if (!dataTable) return;\n",
              "\n",
              "          const docLinkHtml = 'Like what you see? Visit the ' +\n",
              "            '<a target=\"_blank\" href=https://colab.research.google.com/notebooks/data_table.ipynb>data table notebook</a>'\n",
              "            + ' to learn more about interactive tables.';\n",
              "          element.innerHTML = '';\n",
              "          dataTable['output_type'] = 'display_data';\n",
              "          await google.colab.output.renderOutput(dataTable, element);\n",
              "          const docLink = document.createElement('div');\n",
              "          docLink.innerHTML = docLinkHtml;\n",
              "          element.appendChild(docLink);\n",
              "        }\n",
              "      </script>\n",
              "    </div>\n",
              "  </div>\n",
              "  "
            ]
          },
          "metadata": {},
          "execution_count": 4
        }
      ]
    },
    {
      "cell_type": "code",
      "source": [
        "sleep.info()"
      ],
      "metadata": {
        "colab": {
          "base_uri": "https://localhost:8080/"
        },
        "id": "_SozJ_143F01",
        "outputId": "ffacce36-310a-4ac7-b724-54ccd5caa1f9"
      },
      "execution_count": 19,
      "outputs": [
        {
          "output_type": "stream",
          "name": "stdout",
          "text": [
            "<class 'pandas.core.frame.DataFrame'>\n",
            "RangeIndex: 188521 entries, 0 to 188520\n",
            "Data columns (total 4 columns):\n",
            " #   Column  Non-Null Count   Dtype \n",
            "---  ------  --------------   ----- \n",
            " 0   Id      188521 non-null  int64 \n",
            " 1   date    188521 non-null  object\n",
            " 2   value   188521 non-null  int64 \n",
            " 3   logId   188521 non-null  int64 \n",
            "dtypes: int64(3), object(1)\n",
            "memory usage: 5.8+ MB\n"
          ]
        }
      ]
    },
    {
      "cell_type": "markdown",
      "source": [
        "## Probamos la unificación de formatos"
      ],
      "metadata": {
        "id": "MQPIDVkGJSr8"
      }
    },
    {
      "cell_type": "code",
      "source": [
        "print(pd.to_datetime(sleep['date']).dt.strftime('%Y-%m-%d %H:%M:%S'))"
      ],
      "metadata": {
        "colab": {
          "base_uri": "https://localhost:8080/"
        },
        "id": "NnmEwSTp991B",
        "outputId": "aa100fec-9ed2-47c8-dfc7-ec81c803e604"
      },
      "execution_count": 21,
      "outputs": [
        {
          "output_type": "stream",
          "name": "stdout",
          "text": [
            "0         2016-04-12 02:47:30\n",
            "1         2016-04-12 02:48:30\n",
            "2         2016-04-12 02:49:30\n",
            "3         2016-04-12 02:50:30\n",
            "4         2016-04-12 02:51:30\n",
            "                 ...         \n",
            "188516    2016-05-04 09:59:00\n",
            "188517    2016-05-04 10:00:00\n",
            "188518    2016-05-04 10:01:00\n",
            "188519    2016-05-04 10:02:00\n",
            "188520    2016-05-04 10:03:00\n",
            "Name: date, Length: 188521, dtype: object\n"
          ]
        }
      ]
    },
    {
      "cell_type": "code",
      "source": [
        "#Unificar el formato de fechas\n",
        "sleep['date'] = pd.to_datetime(sleep['date']).dt.strftime('%Y-%m-%d %H:%M:%S')"
      ],
      "metadata": {
        "id": "CSIEMKpX3rDH"
      },
      "execution_count": 22,
      "outputs": []
    },
    {
      "cell_type": "markdown",
      "source": [
        "## Trasformamos a tipo fecha"
      ],
      "metadata": {
        "id": "mdRDVjnJJlgc"
      }
    },
    {
      "cell_type": "code",
      "source": [
        "sleep['date'] = pd.to_datetime(sleep['date'], format='%Y-%m-%d %H:%M:%S')"
      ],
      "metadata": {
        "id": "YTRIL5Dj3TjR"
      },
      "execution_count": 23,
      "outputs": []
    },
    {
      "cell_type": "code",
      "source": [
        "sleep.head()"
      ],
      "metadata": {
        "colab": {
          "base_uri": "https://localhost:8080/",
          "height": 206
        },
        "id": "lMes7XMX4I5s",
        "outputId": "b0c2a1a3-aa41-4baf-8343-1b82e91fdad0"
      },
      "execution_count": 24,
      "outputs": [
        {
          "output_type": "execute_result",
          "data": {
            "text/plain": [
              "           Id                date  value        logId\n",
              "0  1503960366 2016-04-12 02:47:30      3  11380564589\n",
              "1  1503960366 2016-04-12 02:48:30      2  11380564589\n",
              "2  1503960366 2016-04-12 02:49:30      1  11380564589\n",
              "3  1503960366 2016-04-12 02:50:30      1  11380564589\n",
              "4  1503960366 2016-04-12 02:51:30      1  11380564589"
            ],
            "text/html": [
              "\n",
              "  <div id=\"df-81960105-46d8-4825-96fe-853416730abc\">\n",
              "    <div class=\"colab-df-container\">\n",
              "      <div>\n",
              "<style scoped>\n",
              "    .dataframe tbody tr th:only-of-type {\n",
              "        vertical-align: middle;\n",
              "    }\n",
              "\n",
              "    .dataframe tbody tr th {\n",
              "        vertical-align: top;\n",
              "    }\n",
              "\n",
              "    .dataframe thead th {\n",
              "        text-align: right;\n",
              "    }\n",
              "</style>\n",
              "<table border=\"1\" class=\"dataframe\">\n",
              "  <thead>\n",
              "    <tr style=\"text-align: right;\">\n",
              "      <th></th>\n",
              "      <th>Id</th>\n",
              "      <th>date</th>\n",
              "      <th>value</th>\n",
              "      <th>logId</th>\n",
              "    </tr>\n",
              "  </thead>\n",
              "  <tbody>\n",
              "    <tr>\n",
              "      <th>0</th>\n",
              "      <td>1503960366</td>\n",
              "      <td>2016-04-12 02:47:30</td>\n",
              "      <td>3</td>\n",
              "      <td>11380564589</td>\n",
              "    </tr>\n",
              "    <tr>\n",
              "      <th>1</th>\n",
              "      <td>1503960366</td>\n",
              "      <td>2016-04-12 02:48:30</td>\n",
              "      <td>2</td>\n",
              "      <td>11380564589</td>\n",
              "    </tr>\n",
              "    <tr>\n",
              "      <th>2</th>\n",
              "      <td>1503960366</td>\n",
              "      <td>2016-04-12 02:49:30</td>\n",
              "      <td>1</td>\n",
              "      <td>11380564589</td>\n",
              "    </tr>\n",
              "    <tr>\n",
              "      <th>3</th>\n",
              "      <td>1503960366</td>\n",
              "      <td>2016-04-12 02:50:30</td>\n",
              "      <td>1</td>\n",
              "      <td>11380564589</td>\n",
              "    </tr>\n",
              "    <tr>\n",
              "      <th>4</th>\n",
              "      <td>1503960366</td>\n",
              "      <td>2016-04-12 02:51:30</td>\n",
              "      <td>1</td>\n",
              "      <td>11380564589</td>\n",
              "    </tr>\n",
              "  </tbody>\n",
              "</table>\n",
              "</div>\n",
              "      <button class=\"colab-df-convert\" onclick=\"convertToInteractive('df-81960105-46d8-4825-96fe-853416730abc')\"\n",
              "              title=\"Convert this dataframe to an interactive table.\"\n",
              "              style=\"display:none;\">\n",
              "        \n",
              "  <svg xmlns=\"http://www.w3.org/2000/svg\" height=\"24px\"viewBox=\"0 0 24 24\"\n",
              "       width=\"24px\">\n",
              "    <path d=\"M0 0h24v24H0V0z\" fill=\"none\"/>\n",
              "    <path d=\"M18.56 5.44l.94 2.06.94-2.06 2.06-.94-2.06-.94-.94-2.06-.94 2.06-2.06.94zm-11 1L8.5 8.5l.94-2.06 2.06-.94-2.06-.94L8.5 2.5l-.94 2.06-2.06.94zm10 10l.94 2.06.94-2.06 2.06-.94-2.06-.94-.94-2.06-.94 2.06-2.06.94z\"/><path d=\"M17.41 7.96l-1.37-1.37c-.4-.4-.92-.59-1.43-.59-.52 0-1.04.2-1.43.59L10.3 9.45l-7.72 7.72c-.78.78-.78 2.05 0 2.83L4 21.41c.39.39.9.59 1.41.59.51 0 1.02-.2 1.41-.59l7.78-7.78 2.81-2.81c.8-.78.8-2.07 0-2.86zM5.41 20L4 18.59l7.72-7.72 1.47 1.35L5.41 20z\"/>\n",
              "  </svg>\n",
              "      </button>\n",
              "      \n",
              "  <style>\n",
              "    .colab-df-container {\n",
              "      display:flex;\n",
              "      flex-wrap:wrap;\n",
              "      gap: 12px;\n",
              "    }\n",
              "\n",
              "    .colab-df-convert {\n",
              "      background-color: #E8F0FE;\n",
              "      border: none;\n",
              "      border-radius: 50%;\n",
              "      cursor: pointer;\n",
              "      display: none;\n",
              "      fill: #1967D2;\n",
              "      height: 32px;\n",
              "      padding: 0 0 0 0;\n",
              "      width: 32px;\n",
              "    }\n",
              "\n",
              "    .colab-df-convert:hover {\n",
              "      background-color: #E2EBFA;\n",
              "      box-shadow: 0px 1px 2px rgba(60, 64, 67, 0.3), 0px 1px 3px 1px rgba(60, 64, 67, 0.15);\n",
              "      fill: #174EA6;\n",
              "    }\n",
              "\n",
              "    [theme=dark] .colab-df-convert {\n",
              "      background-color: #3B4455;\n",
              "      fill: #D2E3FC;\n",
              "    }\n",
              "\n",
              "    [theme=dark] .colab-df-convert:hover {\n",
              "      background-color: #434B5C;\n",
              "      box-shadow: 0px 1px 3px 1px rgba(0, 0, 0, 0.15);\n",
              "      filter: drop-shadow(0px 1px 2px rgba(0, 0, 0, 0.3));\n",
              "      fill: #FFFFFF;\n",
              "    }\n",
              "  </style>\n",
              "\n",
              "      <script>\n",
              "        const buttonEl =\n",
              "          document.querySelector('#df-81960105-46d8-4825-96fe-853416730abc button.colab-df-convert');\n",
              "        buttonEl.style.display =\n",
              "          google.colab.kernel.accessAllowed ? 'block' : 'none';\n",
              "\n",
              "        async function convertToInteractive(key) {\n",
              "          const element = document.querySelector('#df-81960105-46d8-4825-96fe-853416730abc');\n",
              "          const dataTable =\n",
              "            await google.colab.kernel.invokeFunction('convertToInteractive',\n",
              "                                                     [key], {});\n",
              "          if (!dataTable) return;\n",
              "\n",
              "          const docLinkHtml = 'Like what you see? Visit the ' +\n",
              "            '<a target=\"_blank\" href=https://colab.research.google.com/notebooks/data_table.ipynb>data table notebook</a>'\n",
              "            + ' to learn more about interactive tables.';\n",
              "          element.innerHTML = '';\n",
              "          dataTable['output_type'] = 'display_data';\n",
              "          await google.colab.output.renderOutput(dataTable, element);\n",
              "          const docLink = document.createElement('div');\n",
              "          docLink.innerHTML = docLinkHtml;\n",
              "          element.appendChild(docLink);\n",
              "        }\n",
              "      </script>\n",
              "    </div>\n",
              "  </div>\n",
              "  "
            ]
          },
          "metadata": {},
          "execution_count": 24
        }
      ]
    },
    {
      "cell_type": "code",
      "source": [
        "sleep.tail()"
      ],
      "metadata": {
        "colab": {
          "base_uri": "https://localhost:8080/",
          "height": 206
        },
        "id": "UX3kvyQfL_Em",
        "outputId": "1b0b4ea1-c9a9-4086-e8a3-43da48beb7b9"
      },
      "execution_count": 46,
      "outputs": [
        {
          "output_type": "execute_result",
          "data": {
            "text/plain": [
              "                Id                date  value        logId value2\n",
              "188516  8792009665 2016-05-04 09:59:00      1  11552534115      1\n",
              "188517  8792009665 2016-05-04 10:00:00      1  11552534115      1\n",
              "188518  8792009665 2016-05-04 10:01:00      1  11552534115      1\n",
              "188519  8792009665 2016-05-04 10:02:00      1  11552534115      1\n",
              "188520  8792009665 2016-05-04 10:03:00      1  11552534115      1"
            ],
            "text/html": [
              "\n",
              "  <div id=\"df-2b281cd9-e127-402d-aada-7290c9844fad\">\n",
              "    <div class=\"colab-df-container\">\n",
              "      <div>\n",
              "<style scoped>\n",
              "    .dataframe tbody tr th:only-of-type {\n",
              "        vertical-align: middle;\n",
              "    }\n",
              "\n",
              "    .dataframe tbody tr th {\n",
              "        vertical-align: top;\n",
              "    }\n",
              "\n",
              "    .dataframe thead th {\n",
              "        text-align: right;\n",
              "    }\n",
              "</style>\n",
              "<table border=\"1\" class=\"dataframe\">\n",
              "  <thead>\n",
              "    <tr style=\"text-align: right;\">\n",
              "      <th></th>\n",
              "      <th>Id</th>\n",
              "      <th>date</th>\n",
              "      <th>value</th>\n",
              "      <th>logId</th>\n",
              "      <th>value2</th>\n",
              "    </tr>\n",
              "  </thead>\n",
              "  <tbody>\n",
              "    <tr>\n",
              "      <th>188516</th>\n",
              "      <td>8792009665</td>\n",
              "      <td>2016-05-04 09:59:00</td>\n",
              "      <td>1</td>\n",
              "      <td>11552534115</td>\n",
              "      <td>1</td>\n",
              "    </tr>\n",
              "    <tr>\n",
              "      <th>188517</th>\n",
              "      <td>8792009665</td>\n",
              "      <td>2016-05-04 10:00:00</td>\n",
              "      <td>1</td>\n",
              "      <td>11552534115</td>\n",
              "      <td>1</td>\n",
              "    </tr>\n",
              "    <tr>\n",
              "      <th>188518</th>\n",
              "      <td>8792009665</td>\n",
              "      <td>2016-05-04 10:01:00</td>\n",
              "      <td>1</td>\n",
              "      <td>11552534115</td>\n",
              "      <td>1</td>\n",
              "    </tr>\n",
              "    <tr>\n",
              "      <th>188519</th>\n",
              "      <td>8792009665</td>\n",
              "      <td>2016-05-04 10:02:00</td>\n",
              "      <td>1</td>\n",
              "      <td>11552534115</td>\n",
              "      <td>1</td>\n",
              "    </tr>\n",
              "    <tr>\n",
              "      <th>188520</th>\n",
              "      <td>8792009665</td>\n",
              "      <td>2016-05-04 10:03:00</td>\n",
              "      <td>1</td>\n",
              "      <td>11552534115</td>\n",
              "      <td>1</td>\n",
              "    </tr>\n",
              "  </tbody>\n",
              "</table>\n",
              "</div>\n",
              "      <button class=\"colab-df-convert\" onclick=\"convertToInteractive('df-2b281cd9-e127-402d-aada-7290c9844fad')\"\n",
              "              title=\"Convert this dataframe to an interactive table.\"\n",
              "              style=\"display:none;\">\n",
              "        \n",
              "  <svg xmlns=\"http://www.w3.org/2000/svg\" height=\"24px\"viewBox=\"0 0 24 24\"\n",
              "       width=\"24px\">\n",
              "    <path d=\"M0 0h24v24H0V0z\" fill=\"none\"/>\n",
              "    <path d=\"M18.56 5.44l.94 2.06.94-2.06 2.06-.94-2.06-.94-.94-2.06-.94 2.06-2.06.94zm-11 1L8.5 8.5l.94-2.06 2.06-.94-2.06-.94L8.5 2.5l-.94 2.06-2.06.94zm10 10l.94 2.06.94-2.06 2.06-.94-2.06-.94-.94-2.06-.94 2.06-2.06.94z\"/><path d=\"M17.41 7.96l-1.37-1.37c-.4-.4-.92-.59-1.43-.59-.52 0-1.04.2-1.43.59L10.3 9.45l-7.72 7.72c-.78.78-.78 2.05 0 2.83L4 21.41c.39.39.9.59 1.41.59.51 0 1.02-.2 1.41-.59l7.78-7.78 2.81-2.81c.8-.78.8-2.07 0-2.86zM5.41 20L4 18.59l7.72-7.72 1.47 1.35L5.41 20z\"/>\n",
              "  </svg>\n",
              "      </button>\n",
              "      \n",
              "  <style>\n",
              "    .colab-df-container {\n",
              "      display:flex;\n",
              "      flex-wrap:wrap;\n",
              "      gap: 12px;\n",
              "    }\n",
              "\n",
              "    .colab-df-convert {\n",
              "      background-color: #E8F0FE;\n",
              "      border: none;\n",
              "      border-radius: 50%;\n",
              "      cursor: pointer;\n",
              "      display: none;\n",
              "      fill: #1967D2;\n",
              "      height: 32px;\n",
              "      padding: 0 0 0 0;\n",
              "      width: 32px;\n",
              "    }\n",
              "\n",
              "    .colab-df-convert:hover {\n",
              "      background-color: #E2EBFA;\n",
              "      box-shadow: 0px 1px 2px rgba(60, 64, 67, 0.3), 0px 1px 3px 1px rgba(60, 64, 67, 0.15);\n",
              "      fill: #174EA6;\n",
              "    }\n",
              "\n",
              "    [theme=dark] .colab-df-convert {\n",
              "      background-color: #3B4455;\n",
              "      fill: #D2E3FC;\n",
              "    }\n",
              "\n",
              "    [theme=dark] .colab-df-convert:hover {\n",
              "      background-color: #434B5C;\n",
              "      box-shadow: 0px 1px 3px 1px rgba(0, 0, 0, 0.15);\n",
              "      filter: drop-shadow(0px 1px 2px rgba(0, 0, 0, 0.3));\n",
              "      fill: #FFFFFF;\n",
              "    }\n",
              "  </style>\n",
              "\n",
              "      <script>\n",
              "        const buttonEl =\n",
              "          document.querySelector('#df-2b281cd9-e127-402d-aada-7290c9844fad button.colab-df-convert');\n",
              "        buttonEl.style.display =\n",
              "          google.colab.kernel.accessAllowed ? 'block' : 'none';\n",
              "\n",
              "        async function convertToInteractive(key) {\n",
              "          const element = document.querySelector('#df-2b281cd9-e127-402d-aada-7290c9844fad');\n",
              "          const dataTable =\n",
              "            await google.colab.kernel.invokeFunction('convertToInteractive',\n",
              "                                                     [key], {});\n",
              "          if (!dataTable) return;\n",
              "\n",
              "          const docLinkHtml = 'Like what you see? Visit the ' +\n",
              "            '<a target=\"_blank\" href=https://colab.research.google.com/notebooks/data_table.ipynb>data table notebook</a>'\n",
              "            + ' to learn more about interactive tables.';\n",
              "          element.innerHTML = '';\n",
              "          dataTable['output_type'] = 'display_data';\n",
              "          await google.colab.output.renderOutput(dataTable, element);\n",
              "          const docLink = document.createElement('div');\n",
              "          docLink.innerHTML = docLinkHtml;\n",
              "          element.appendChild(docLink);\n",
              "        }\n",
              "      </script>\n",
              "    </div>\n",
              "  </div>\n",
              "  "
            ]
          },
          "metadata": {},
          "execution_count": 46
        }
      ]
    },
    {
      "cell_type": "code",
      "source": [
        "sleep.info()"
      ],
      "metadata": {
        "colab": {
          "base_uri": "https://localhost:8080/"
        },
        "id": "LPlxU6WC4QrP",
        "outputId": "a83aba98-43e7-4980-9f1c-3d1f66883037"
      },
      "execution_count": 25,
      "outputs": [
        {
          "output_type": "stream",
          "name": "stdout",
          "text": [
            "<class 'pandas.core.frame.DataFrame'>\n",
            "RangeIndex: 188521 entries, 0 to 188520\n",
            "Data columns (total 4 columns):\n",
            " #   Column  Non-Null Count   Dtype         \n",
            "---  ------  --------------   -----         \n",
            " 0   Id      188521 non-null  int64         \n",
            " 1   date    188521 non-null  datetime64[ns]\n",
            " 2   value   188521 non-null  int64         \n",
            " 3   logId   188521 non-null  int64         \n",
            "dtypes: datetime64[ns](1), int64(3)\n",
            "memory usage: 5.8 MB\n"
          ]
        }
      ]
    },
    {
      "cell_type": "markdown",
      "source": [
        "## Trasformamos a tipo objeto"
      ],
      "metadata": {
        "id": "yT4GenHAJ6GK"
      }
    },
    {
      "cell_type": "code",
      "source": [
        "sleep['Id'] = sleep['Id'].astype(str)"
      ],
      "metadata": {
        "id": "8f3yh1Zg41hA"
      },
      "execution_count": 26,
      "outputs": []
    },
    {
      "cell_type": "code",
      "source": [
        "sleep['logId'] = sleep['logId'].astype(str)"
      ],
      "metadata": {
        "id": "tHsKDiZ55jPe"
      },
      "execution_count": 27,
      "outputs": []
    },
    {
      "cell_type": "code",
      "source": [
        "sleep.info()"
      ],
      "metadata": {
        "colab": {
          "base_uri": "https://localhost:8080/"
        },
        "id": "oUCdvoih5bPm",
        "outputId": "43c89a43-2f9f-4d19-acd7-7d14318e4b33"
      },
      "execution_count": 28,
      "outputs": [
        {
          "output_type": "stream",
          "name": "stdout",
          "text": [
            "<class 'pandas.core.frame.DataFrame'>\n",
            "RangeIndex: 188521 entries, 0 to 188520\n",
            "Data columns (total 4 columns):\n",
            " #   Column  Non-Null Count   Dtype         \n",
            "---  ------  --------------   -----         \n",
            " 0   Id      188521 non-null  object        \n",
            " 1   date    188521 non-null  datetime64[ns]\n",
            " 2   value   188521 non-null  int64         \n",
            " 3   logId   188521 non-null  object        \n",
            "dtypes: datetime64[ns](1), int64(1), object(2)\n",
            "memory usage: 5.8+ MB\n"
          ]
        }
      ]
    },
    {
      "cell_type": "markdown",
      "source": [
        "## Analisamos ¿qué hay en las variebles?"
      ],
      "metadata": {
        "id": "IMTFllAkKHIq"
      }
    },
    {
      "cell_type": "code",
      "source": [
        "sleep['value2'] = sleep['value'].astype(str)"
      ],
      "metadata": {
        "id": "bnt4q-HzCElL"
      },
      "execution_count": 31,
      "outputs": []
    },
    {
      "cell_type": "code",
      "source": [
        "sleep['Id'].unique()"
      ],
      "metadata": {
        "colab": {
          "base_uri": "https://localhost:8080/"
        },
        "id": "N8Fr9GRUDxeu",
        "outputId": "cbd27b67-f3df-4e8b-cefc-62c167e6435c"
      },
      "execution_count": 38,
      "outputs": [
        {
          "output_type": "execute_result",
          "data": {
            "text/plain": [
              "array(['1503960366', '1644430081', '1844505072', '1927972279',\n",
              "       '2026352035', '2320127002', '2347167796', '3977333714',\n",
              "       '4020332650', '4319703577', '4388161847', '4445114986',\n",
              "       '4558609924', '4702921684', '5553957443', '5577150313',\n",
              "       '6117666160', '6775888955', '6962181067', '7007744171',\n",
              "       '7086361926', '8053475328', '8378563200', '8792009665'],\n",
              "      dtype=object)"
            ]
          },
          "metadata": {},
          "execution_count": 38
        }
      ]
    },
    {
      "cell_type": "code",
      "source": [
        "len(sleep['Id'].unique())"
      ],
      "metadata": {
        "colab": {
          "base_uri": "https://localhost:8080/"
        },
        "id": "lDsXi50GF-R0",
        "outputId": "a9b98a26-3b54-4ccd-bfb1-a28085904a74"
      },
      "execution_count": 39,
      "outputs": [
        {
          "output_type": "execute_result",
          "data": {
            "text/plain": [
              "24"
            ]
          },
          "metadata": {},
          "execution_count": 39
        }
      ]
    },
    {
      "cell_type": "code",
      "source": [
        "sleep['value'].unique()"
      ],
      "metadata": {
        "colab": {
          "base_uri": "https://localhost:8080/"
        },
        "id": "XyrCG-oOGDl4",
        "outputId": "54e425bc-d7a8-4fa8-fb89-5b9f7eb5b872"
      },
      "execution_count": 41,
      "outputs": [
        {
          "output_type": "execute_result",
          "data": {
            "text/plain": [
              "array([3, 2, 1])"
            ]
          },
          "metadata": {},
          "execution_count": 41
        }
      ]
    },
    {
      "cell_type": "code",
      "source": [
        "sleep['logId'].unique()"
      ],
      "metadata": {
        "colab": {
          "base_uri": "https://localhost:8080/"
        },
        "id": "hhflPgisGPr1",
        "outputId": "361d8466-4886-4fd9-ea33-b068f73fa81d"
      },
      "execution_count": 42,
      "outputs": [
        {
          "output_type": "execute_result",
          "data": {
            "text/plain": [
              "array(['11380564589', '11388770715', '11388770716', '11402722600',\n",
              "       '11421831252', '11421831253', '11421831254', '11439580762',\n",
              "       '11447640793', '11455720858', '11467122444', '11474187653',\n",
              "       '11486980511', '11493711616', '11510040462', '11517735116',\n",
              "       '11522188936', '11531996212', '11540663911', '11548039064',\n",
              "       '11562571546', '11569709241', '11576325621', '11582776423',\n",
              "       '11591926984', '11611033063', '11611033064', '11523617009',\n",
              "       '11524592517', '11548609830', '11608693255', '11403372987',\n",
              "       '11523519346', '11530537917', '11372414035', '11374768075',\n",
              "       '11376465497', '11384336437', '11398575572', '11401641693',\n",
              "       '11492104450', '11507403943', '11372566564', '11382294591',\n",
              "       '11391168707', '11399886313', '11407818391', '11415575687',\n",
              "       '11432703842', '11441438237', '11450431030', '11459456610',\n",
              "       '11464357502', '11473013379', '11479531689', '11496429833',\n",
              "       '11504172158', '11512494969', '11519761551', '11526325029',\n",
              "       '11534045885', '11550023964', '11556705027', '11564567481',\n",
              "       '11571001413', '11578350038', '11586309934', '11602073203',\n",
              "       '11605330115', '11613084210', '11469474452', '11385457746',\n",
              "       '11390804844', '11404834335', '11416786187', '11425486430',\n",
              "       '11438439209', '11449590252', '11460699660', '11468101354',\n",
              "       '11473106301', '11485704111', '11496194770', '11496194771',\n",
              "       '11508327337', '11511973625', '11376097379', '11383276204',\n",
              "       '11389080820', '11393928506', '11402582711', '11411726685',\n",
              "       '11419539457', '11429723762', '11429723763', '11434580717',\n",
              "       '11443226218', '11446881699', '11469011466', '11469011467',\n",
              "       '11469011468', '11472659114', '11485514676', '11498178822',\n",
              "       '11498330023', '11514103969', '11514103970', '11519611316',\n",
              "       '11527687449', '11534635322', '11547934264', '11552949524',\n",
              "       '11576380691', '11576380692', '11576380694', '11583910495',\n",
              "       '11583910496', '11597457268', '11375838887', '11409992504',\n",
              "       '11543765897', '11552754875', '11557855778', '11592141407',\n",
              "       '11592141408', '11595616677', '11439308634', '11439308635',\n",
              "       '11439308636', '11439308637', '11439308639', '11439308640',\n",
              "       '11447734147', '11501142212', '11501142214', '11501142216',\n",
              "       '11501142219', '11501142221', '11501142223', '11501142225',\n",
              "       '11512958234', '11512958235', '11523726410', '11550579238',\n",
              "       '11550579239', '11550579240', '11575271293', '11575271294',\n",
              "       '11611314890', '11611314891', '11611314892', '11611314893',\n",
              "       '11612541628', '11438827487', '11438827488', '11438827489',\n",
              "       '11438827490', '11438827491', '11438827492', '11438827493',\n",
              "       '11441459537', '11450335126', '11462400108', '11465910790',\n",
              "       '11476527082', '11476527083', '11476527084', '11488358688',\n",
              "       '11494606419', '11502756809', '11518651229', '11524120151',\n",
              "       '11528636846', '11565366899', '11565366900', '11565366901',\n",
              "       '11565366902', '11572868794', '11580213577', '11582178123',\n",
              "       '11594333381', '11595075442', '11603580199', '11374744422',\n",
              "       '11375953477', '11383698423', '11385332302', '11394064504',\n",
              "       '11398452309', '11402134657', '11410367670', '11418467379',\n",
              "       '11433617055', '11436130885', '11477307087', '11477307088',\n",
              "       '11477307089', '11479862706', '11490421616', '11491484570',\n",
              "       '11498820000', '11506979487', '11513834376', '11521467406',\n",
              "       '11527350194', '11529296216', '11533384148', '11544307514',\n",
              "       '11545629569', '11550884317', '11552807174', '11558506197',\n",
              "       '11560045925', '11567082662', '11567979417', '11572172742',\n",
              "       '11575932652', '11580968626', '11589147442', '11598021567',\n",
              "       '11604805541', '11616251768', '11450944156', '11490035288',\n",
              "       '11513595087', '11539521793', '11580819425', '11379793908',\n",
              "       '11384442649', '11384442650', '11392839696', '11405470314',\n",
              "       '11408721562', '11410487775', '11418702820', '11426605512',\n",
              "       '11435468783', '11443572207', '11451457511', '11466575652',\n",
              "       '11473673513', '11486893536', '11494006047', '11494907989',\n",
              "       '11517465389', '11517465390', '11521472854', '11543748793',\n",
              "       '11554093366', '11562534134', '11566566371', '11573168523',\n",
              "       '11588643054', '11598134524', '11606986410', '11615068469',\n",
              "       '11372227280', '11393617328', '11393617329', '11393617330',\n",
              "       '11402087310', '11427859713', '11427859714', '11427859715',\n",
              "       '11427859716', '11436643042', '11436643044', '11454606896',\n",
              "       '11454606897', '11458247463', '11481403120', '11481403121',\n",
              "       '11481403122', '11481403123', '11481403124', '11489047768',\n",
              "       '11496635316', '11506295004', '11512318711', '11534854776',\n",
              "       '11534854777', '11534854778', '11534854779', '11534854780',\n",
              "       '11562080784', '11562080785', '11562080786', '11568062398',\n",
              "       '11586139608', '11586139609', '11586139610', '11610084415',\n",
              "       '11610084416', '11613774989', '11376928526', '11386029591',\n",
              "       '11403402175', '11403402176', '11454678553', '11454678554',\n",
              "       '11454678555', '11454678556', '11454678557', '11454678558',\n",
              "       '11460146661', '11501330825', '11501330826', '11501330827',\n",
              "       '11501330828', '11501330829', '11506820877', '11516051366',\n",
              "       '11538556119', '11538556120', '11538556121', '11560009515',\n",
              "       '11560009516', '11560009517', '11568340140', '11600721447',\n",
              "       '11607787833', '11413551138', '11416558996', '11421968301',\n",
              "       '11422749670', '11430191272', '11445412645', '11445412646',\n",
              "       '11452486347', '11458712407', '11463701257', '11493525940',\n",
              "       '11502015693', '11504747764', '11514386783', '11527781112',\n",
              "       '11568765044', '11568765045', '11568765046', '11576509603',\n",
              "       '11576509604', '11589908471', '11589908472', '11384442455',\n",
              "       '11397216255', '11400668739', '11372617693', '11383389803',\n",
              "       '11384378592', '11385239921', '11391082858', '11392223003',\n",
              "       '11399562896', '11408300019', '11415835154', '11424306120',\n",
              "       '11434169235', '11441506388', '11449886243', '11457937567',\n",
              "       '11464896666', '11472150478', '11479670086', '11488695133',\n",
              "       '11496026553', '11504431352', '11511802750', '11520934806',\n",
              "       '11526663776', '11534084699', '11542593091', '11549818349',\n",
              "       '11557829052', '11564797317', '11572402930', '11579365841',\n",
              "       '11587333914', '11596233059', '11605753758', '11614342249',\n",
              "       '11413262371', '11536633979', '11374876178', '11384782524',\n",
              "       '11393314816', '11402209490', '11435753721', '11443866261',\n",
              "       '11452159041', '11459947346', '11475129406', '11481756215',\n",
              "       '11491310648', '11498140223', '11506304723', '11522703526',\n",
              "       '11528444538', '11536298042', '11545051498', '11552208347',\n",
              "       '11567152284', '11574341026', '11581172715', '11588926929',\n",
              "       '11607696585', '11615720066', '11444501949', '11467486051',\n",
              "       '11576391252', '11373088895', '11382763276', '11382763277',\n",
              "       '11391590098', '11400023617', '11409127461', '11414152053',\n",
              "       '11416249771', '11420754094', '11424513975', '11433548828',\n",
              "       '11441710430', '11450382515', '11458449548', '11465706523',\n",
              "       '11471818605', '11480131819', '11489307342', '11494852178',\n",
              "       '11508037626', '11512161584', '11520206581', '11527533844',\n",
              "       '11534586771', '11543250624', '11550654115', '11557612620',\n",
              "       '11565147460', '11572911643', '11572911644', '11578970640',\n",
              "       '11587138241', '11595151537', '11605715978', '11611590375',\n",
              "       '11375666612', '11385348917', '11431161768', '11431161769',\n",
              "       '11444600597', '11459956046', '11466415426', '11510924293',\n",
              "       '11510924294', '11514018985', '11521265607', '11528665309',\n",
              "       '11536572725', '11545482065', '11552534115'], dtype=object)"
            ]
          },
          "metadata": {},
          "execution_count": 42
        }
      ]
    },
    {
      "cell_type": "code",
      "source": [
        "len(sleep['logId'].unique())"
      ],
      "metadata": {
        "colab": {
          "base_uri": "https://localhost:8080/"
        },
        "id": "UoWhCkk_Gc-u",
        "outputId": "b4ec290a-5ba9-4e3c-eb04-f837cd2a11c0"
      },
      "execution_count": 43,
      "outputs": [
        {
          "output_type": "execute_result",
          "data": {
            "text/plain": [
              "459"
            ]
          },
          "metadata": {},
          "execution_count": 43
        }
      ]
    },
    {
      "cell_type": "code",
      "source": [
        "# Graficar los subniveles de cada variable categórica\n",
        "cols_cat = ['Id', 'value2']\n",
        "\n",
        "fig, ax = plt.subplots(nrows=10, ncols=1, figsize=(10,30))\n",
        "fig.subplots_adjust(hspace=1)\n",
        "\n",
        "for i, col in enumerate(cols_cat):\n",
        "  sns.countplot(x=col, data=sleep, ax=ax[i])\n",
        "  ax[i].set_title(col)\n",
        "  ax[i].set_xticklabels(ax[i].get_xticklabels(),rotation=30)"
      ],
      "metadata": {
        "colab": {
          "base_uri": "https://localhost:8080/",
          "height": 1000
        },
        "id": "b3M-lKbN6d2N",
        "outputId": "fa9a5ab3-375b-4034-9754-6c7ed4adbadb"
      },
      "execution_count": 44,
      "outputs": [
        {
          "output_type": "display_data",
          "data": {
            "text/plain": [
              "<Figure size 1000x3000 with 10 Axes>"
            ],
            "image/png": "[encoded data removed]"
          },
          "metadata": {}
        }
      ]
    },
    {
      "cell_type": "markdown",
      "source": [
        "## Tenemos la información de los tipos de sueño por minuto de 24 usuarios. Pero, no tenemos la misma cantidad de información por usurio."
      ],
      "metadata": {
        "id": "udX0jzkrKkuk"
      }
    },
    {
      "cell_type": "code",
      "source": [
        "sleep.to_csv(\"sleepDay_merged_clean.csv\")"
      ],
      "metadata": {
        "id": "5yMyvMVl55eG"
      },
      "execution_count": 30,
      "outputs": []
    }
  ]
}